{
 "cells": [
  {
   "cell_type": "code",
   "id": "initial_id",
   "metadata": {
    "collapsed": true,
    "ExecuteTime": {
     "end_time": "2025-09-09T11:14:49.582941Z",
     "start_time": "2025-09-09T11:14:49.577299Z"
    }
   },
   "source": "from datetime import datetime",
   "outputs": [],
   "execution_count": 1
  },
  {
   "metadata": {
    "ExecuteTime": {
     "end_time": "2025-09-09T11:20:34.625166Z",
     "start_time": "2025-09-09T11:20:34.619015Z"
    }
   },
   "cell_type": "code",
   "source": [
    "def days_to_birthday(dob):\n",
    "    dob = datetime.strptime(dob, \"%Y-%m-%d\")\n",
    "    current_bd = f\"{datetime.today().year}-{dob.month}-{dob.day}\"\n",
    "    birthday_delta = datetime.today() - datetime.strptime(str(current_bd), \"%Y-%m-%d\")\n",
    "    if birthday_delta.days > 0:\n",
    "        next_bd = f\"{datetime.today().year+1}-{dob.month}-{dob.day}\"\n",
    "    else:\n",
    "        next_bd = f\"{datetime.today().year}-{dob.month}-{dob.day}\"\n",
    "    days_to_birthday = datetime.strptime(str(next_bd), \"%Y-%m-%d\") - datetime.today()\n",
    "    return days_to_birthday"
   ],
   "id": "26bf62e84a317f29",
   "outputs": [],
   "execution_count": 14
  },
  {
   "metadata": {
    "ExecuteTime": {
     "end_time": "2025-09-09T11:22:00.313241Z",
     "start_time": "2025-09-09T11:22:00.309402Z"
    }
   },
   "cell_type": "code",
   "source": "print(days_to_birthday(\"1998-09-11\"))",
   "id": "f7128b9c2bdf65e1",
   "outputs": [
    {
     "name": "stdout",
     "output_type": "stream",
     "text": [
      "1 day, 11:37:59.688560\n"
     ]
    }
   ],
   "execution_count": 18
  },
  {
   "metadata": {},
   "cell_type": "code",
   "outputs": [],
   "execution_count": null,
   "source": "",
   "id": "26ee2a05a9e9c5b4"
  }
 ],
 "metadata": {
  "kernelspec": {
   "display_name": "Python 3",
   "language": "python",
   "name": "python3"
  },
  "language_info": {
   "codemirror_mode": {
    "name": "ipython",
    "version": 2
   },
   "file_extension": ".py",
   "mimetype": "text/x-python",
   "name": "python",
   "nbconvert_exporter": "python",
   "pygments_lexer": "ipython2",
   "version": "2.7.6"
  }
 },
 "nbformat": 4,
 "nbformat_minor": 5
}
