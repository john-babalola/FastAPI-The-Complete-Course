{
 "cells": [
  {
   "cell_type": "code",
   "execution_count": 11,
   "id": "initial_id",
   "metadata": {
    "jupyter": {
     "is_executing": true
    }
   },
   "outputs": [
    {
     "name": "stdout",
     "output_type": "stream",
     "text": [
      "34.55\n"
     ]
    }
   ],
   "source": [
    "total = 50\n",
    "purchase = 15\n",
    "tax_rate = 0.03\n",
    "tax = purchase * tax_rate\n",
    "\n",
    "value_after_tax = purchase + tax\n",
    "balance = total - value_after_tax\n",
    "\n",
    "print(balance)"
   ]
  },
  {
   "cell_type": "code",
   "execution_count": 9,
   "id": "ecb9496ca96ed10a",
   "metadata": {},
   "outputs": [
    {
     "name": "stdout",
     "output_type": "stream",
     "text": [
      "Hi John\n"
     ]
    }
   ],
   "source": [
    "first_name = 'john'\n",
    "\n",
    "print(f'Hi {first_name.title()}')"
   ]
  },
  {
   "cell_type": "code",
   "execution_count": null,
   "id": "20bc9c1d-2403-41e7-bf15-e63a3034b87e",
   "metadata": {},
   "outputs": [],
   "source": []
  }
 ],
 "metadata": {
  "kernelspec": {
   "display_name": "Python 3 (ipykernel)",
   "language": "python",
   "name": "python3"
  },
  "language_info": {
   "codemirror_mode": {
    "name": "ipython",
    "version": 3
   },
   "file_extension": ".py",
   "mimetype": "text/x-python",
   "name": "python",
   "nbconvert_exporter": "python",
   "pygments_lexer": "ipython3",
   "version": "3.11.7"
  }
 },
 "nbformat": 4,
 "nbformat_minor": 5
}
