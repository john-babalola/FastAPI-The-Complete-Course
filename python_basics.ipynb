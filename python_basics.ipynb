{
 "cells": [
  {
   "cell_type": "code",
   "id": "initial_id",
   "metadata": {
    "collapsed": true,
    "ExecuteTime": {
     "end_time": "2025-09-07T06:32:32.579542Z",
     "start_time": "2025-09-07T06:32:32.574472Z"
    }
   },
   "source": [
    "#from quick_runs import first_name\n",
    "from datetime import datetime\n",
    "\n",
    "print('hello world')"
   ],
   "outputs": [
    {
     "name": "stdout",
     "output_type": "stream",
     "text": [
      "hello world\n"
     ]
    }
   ],
   "execution_count": 8
  },
  {
   "metadata": {
    "ExecuteTime": {
     "end_time": "2025-09-07T06:12:02.072222Z",
     "start_time": "2025-09-07T06:12:02.068006Z"
    }
   },
   "cell_type": "code",
   "source": [
    "first_name = \"John\"\n",
    "print(f\"Hello, {first_name.upper()}\")"
   ],
   "id": "658615df3f0e9683",
   "outputs": [
    {
     "name": "stdout",
     "output_type": "stream",
     "text": [
      "Hello, JOHN\n"
     ]
    }
   ],
   "execution_count": 3
  },
  {
   "metadata": {
    "ExecuteTime": {
     "end_time": "2025-09-07T06:15:58.661627Z",
     "start_time": "2025-09-07T06:15:58.654369Z"
    }
   },
   "cell_type": "code",
   "source": [
    "sentence = \"Hi, {} {}\"\n",
    "last_name = \"Babalola\"\n",
    "print(sentence.format(first_name, last_name))"
   ],
   "id": "a3854729134100c1",
   "outputs": [
    {
     "name": "stdout",
     "output_type": "stream",
     "text": [
      "Hi, John Babalola\n"
     ]
    }
   ],
   "execution_count": 4
  },
  {
   "metadata": {
    "ExecuteTime": {
     "end_time": "2025-09-07T06:17:03.753352Z",
     "start_time": "2025-09-07T06:17:03.747163Z"
    }
   },
   "cell_type": "code",
   "source": "print(f\"Hello, {first_name} {last_name.upper()}, I hope you are having fun\")",
   "id": "9cb130c4ba6fcb0a",
   "outputs": [
    {
     "name": "stdout",
     "output_type": "stream",
     "text": [
      "Hello, John BABALOLA, I hope you are having fun\n"
     ]
    }
   ],
   "execution_count": 5
  },
  {
   "metadata": {
    "ExecuteTime": {
     "end_time": "2025-09-07T06:32:43.730292Z",
     "start_time": "2025-09-07T06:32:43.725822Z"
    }
   },
   "cell_type": "code",
   "source": [
    "dt = datetime.now()\n",
    "print(datetime.today() + datetime.)"
   ],
   "id": "d089075e2b2e6b59",
   "outputs": [
    {
     "name": "stdout",
     "output_type": "stream",
     "text": [
      "2025-09-07 07:32:43.728195\n"
     ]
    }
   ],
   "execution_count": 10
  },
  {
   "metadata": {
    "ExecuteTime": {
     "end_time": "2025-09-07T09:08:17.290337Z",
     "start_time": "2025-09-07T09:08:05.128451Z"
    }
   },
   "cell_type": "code",
   "source": [
    "name = input(\"What is your name? \")\n",
    "#birth_day = datetime.strptime(input(\"Input your next birth day (format: dd-mm-yyyy): \"), '%d-%m-%Y')\n",
    "#print(birth_day)\n",
    "dob = datetime.strptime(input(\"Input your next date of birth (format: dd-mm-yyyy): \"), '%d-%m-%Y')"
   ],
   "id": "1c40bf44628026bf",
   "outputs": [],
   "execution_count": 17
  },
  {
   "metadata": {},
   "cell_type": "code",
   "outputs": [],
   "execution_count": null,
   "source": "",
   "id": "265cb464834ffd94"
  },
  {
   "metadata": {
    "ExecuteTime": {
     "end_time": "2025-09-09T10:33:03.435741Z",
     "start_time": "2025-09-09T10:33:03.422494Z"
    }
   },
   "cell_type": "code",
   "source": [
    "days_to_birthday = birth_day - datetime.today()\n",
    "print(days_to_birthday)"
   ],
   "id": "9517142fd5eeca29",
   "outputs": [
    {
     "name": "stdout",
     "output_type": "stream",
     "text": [
      "286 days, 12:26:56.568728\n"
     ]
    }
   ],
   "execution_count": 20
  },
  {
   "metadata": {
    "ExecuteTime": {
     "end_time": "2025-09-09T10:33:08.837669Z",
     "start_time": "2025-09-09T10:33:08.832923Z"
    }
   },
   "cell_type": "code",
   "source": [
    "days_lived = datetime.today() - dob\n",
    "print(days_lived)"
   ],
   "id": "7c0e5061afb4da12",
   "outputs": [
    {
     "name": "stdout",
     "output_type": "stream",
     "text": [
      "9940 days, 11:33:08.835485\n"
     ]
    }
   ],
   "execution_count": 21
  },
  {
   "metadata": {
    "ExecuteTime": {
     "end_time": "2025-09-09T10:39:39.189726Z",
     "start_time": "2025-09-09T10:39:39.184453Z"
    }
   },
   "cell_type": "code",
   "source": "",
   "id": "9006bce31c4d8ebe",
   "outputs": [
    {
     "data": {
      "text/plain": [
       "6"
      ]
     },
     "execution_count": 23,
     "metadata": {},
     "output_type": "execute_result"
    }
   ],
   "execution_count": 23
  },
  {
   "metadata": {
    "ExecuteTime": {
     "end_time": "2025-09-09T10:53:58.699874Z",
     "start_time": "2025-09-09T10:53:58.694023Z"
    }
   },
   "cell_type": "code",
   "source": "datetime.now().year",
   "id": "1677e54ec3388bf",
   "outputs": [
    {
     "data": {
      "text/plain": [
       "2025"
      ]
     },
     "execution_count": 26,
     "metadata": {},
     "output_type": "execute_result"
    }
   ],
   "execution_count": 26
  },
  {
   "metadata": {
    "ExecuteTime": {
     "end_time": "2025-09-09T10:57:39.563408Z",
     "start_time": "2025-09-09T10:57:39.558586Z"
    }
   },
   "cell_type": "code",
   "source": [
    "current_birthday = f\"{datetime.now().year}-{dob.month}-{dob.day}\"\n",
    "print(current_birthday)"
   ],
   "id": "93e8bd4556eaeb3c",
   "outputs": [
    {
     "name": "stdout",
     "output_type": "stream",
     "text": [
      "2025-6-23\n"
     ]
    }
   ],
   "execution_count": 27
  },
  {
   "metadata": {
    "ExecuteTime": {
     "end_time": "2025-09-09T11:09:09.154626Z",
     "start_time": "2025-09-09T11:09:09.150850Z"
    }
   },
   "cell_type": "code",
   "source": [
    "next_birthday = f\"{datetime.now().year+1}-{dob.month}-{dob.day}\"\n",
    "print(next_birthday)"
   ],
   "id": "840771749bf11081",
   "outputs": [
    {
     "name": "stdout",
     "output_type": "stream",
     "text": [
      "2026-6-23\n"
     ]
    }
   ],
   "execution_count": 39
  },
  {
   "metadata": {
    "ExecuteTime": {
     "end_time": "2025-09-09T11:03:54.320090Z",
     "start_time": "2025-09-09T11:03:54.316355Z"
    }
   },
   "cell_type": "code",
   "source": "birth_day_delta = datetime.today() - datetime.strptime(str(current_birthday), \"%Y-%m-%d\")",
   "id": "818fc56635896f3b",
   "outputs": [],
   "execution_count": 36
  },
  {
   "metadata": {
    "ExecuteTime": {
     "end_time": "2025-09-09T11:04:00.088769Z",
     "start_time": "2025-09-09T11:04:00.084337Z"
    }
   },
   "cell_type": "code",
   "source": "print(birth_day_delta.days)",
   "id": "6f0d2be4469fd072",
   "outputs": [
    {
     "name": "stdout",
     "output_type": "stream",
     "text": [
      "78\n"
     ]
    }
   ],
   "execution_count": 38
  },
  {
   "metadata": {},
   "cell_type": "code",
   "outputs": [],
   "execution_count": null,
   "source": [
    "def days_to_birthday(dob):\n",
    "    current_bd = f\"{datetime.today().year}-{dob.month}-{dob.day}\"\n",
    "    birthday_delta = datetime.today() - datetime.strptime(str(current_bd), \"%Y-%m-%d\")\n",
    "    if birthday_delta.days > 0:\n",
    "        next_bd = f\"{datetime.today().year+1}-{dob.month}-{dob.day}\"\n",
    "    else:\n",
    "        next_bd = f\"{datetime.today().year}-{dob.month}-{dob.day}\"\n",
    "    days_to_birthday = datetime.strptime(str(next_bd), \"%Y-%m-%d\") - datetime.strptime(str(current_bd), \"%Y-%m-%d\")\n",
    "    return days_to_birthday\n",
    "\n"
   ],
   "id": "5c388ebca9af7bef"
  }
 ],
 "metadata": {
  "kernelspec": {
   "display_name": "Python 3",
   "language": "python",
   "name": "python3"
  },
  "language_info": {
   "codemirror_mode": {
    "name": "ipython",
    "version": 2
   },
   "file_extension": ".py",
   "mimetype": "text/x-python",
   "name": "python",
   "nbconvert_exporter": "python",
   "pygments_lexer": "ipython2",
   "version": "2.7.6"
  }
 },
 "nbformat": 4,
 "nbformat_minor": 5
}
